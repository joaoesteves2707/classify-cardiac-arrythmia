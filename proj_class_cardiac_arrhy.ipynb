{
 "cells": [
  {
   "cell_type": "code",
   "execution_count": 16,
   "metadata": {},
   "outputs": [],
   "source": [
    "#TITLE: A Machine Learning Approach for the Classification of Cardiac Arrhythmia\n",
    "#STUDENT NAME: João Pedro da Silva Esteves\n",
    "#JMBAG: "
   ]
  },
  {
   "cell_type": "markdown",
   "metadata": {},
   "source": []
  },
  {
   "cell_type": "code",
   "execution_count": 17,
   "metadata": {},
   "outputs": [],
   "source": [
    "import numpy as np\n",
    "import pandas as pd\n",
    "from sklearn.preprocessing import StandardScaler\n",
    "from sklearn.decomposition import PCA\n",
    "from sklearn.impute import SimpleImputer\n",
    "\n",
    "url = 'https://archive.ics.uci.edu/ml/machine-learning-databases/arrhythmia/arrhythmia.data'"
   ]
  },
  {
   "cell_type": "markdown",
   "metadata": {},
   "source": [
    "First, get data frame from the .data file of arrhythmia, with features named from 0 to 279, using pandas' read_csv()\n",
    "Feature 279 is actually the 'targets'"
   ]
  },
  {
   "cell_type": "code",
   "execution_count": 18,
   "metadata": {},
   "outputs": [],
   "source": [
    "lst = range(0,280)\n",
    "raw_data = pd.read_csv(url, names = lst, na_values='?')"
   ]
  },
  {
   "cell_type": "markdown",
   "metadata": {},
   "source": [
    "Separating the features from the targets..."
   ]
  },
  {
   "cell_type": "code",
   "execution_count": 19,
   "metadata": {},
   "outputs": [],
   "source": [
    "ft_data = raw_data.loc[:, lst[:-1]].values\n",
    "target_data = raw_data.loc[:, lst[-1]].values"
   ]
  },
  {
   "cell_type": "markdown",
   "metadata": {},
   "source": [
    "Standardizing the features' numerical data..."
   ]
  },
  {
   "cell_type": "code",
   "execution_count": 20,
   "metadata": {},
   "outputs": [],
   "source": [
    "scaler = StandardScaler()\n",
    "ft_data = scaler.fit_transform(ft_data)\n"
   ]
  },
  {
   "cell_type": "markdown",
   "metadata": {},
   "source": []
  },
  {
   "cell_type": "code",
   "execution_count": 26,
   "metadata": {},
   "outputs": [
    {
     "name": "stdout",
     "output_type": "stream",
     "text": [
      "           0          1         2          3         4         5          6    \\\n",
      "0     1.369869  -0.028621 -2.181240  -0.308246 -1.249854 -0.614914  -3.049861   \n",
      "1     0.000875   1.311179 -2.608008  -2.863947 -1.452317  0.838703   0.061636   \n",
      "2    -5.302199 -10.260543 -0.976826   1.566401  6.031283  7.549582  11.675577   \n",
      "3     0.120265   2.258963 -2.528376  -1.920754  3.137857  0.135137   0.618345   \n",
      "4     1.613108  -1.395706 -2.122589  -2.161265 -0.885634 -0.247326  -0.798531   \n",
      "..         ...        ...       ...        ...       ...       ...        ...   \n",
      "447   8.200332  -2.620797  0.351683  -2.374859 -0.699728  0.811404  -1.345651   \n",
      "448  -7.778414   1.557377  0.247272  -1.932862  4.085983 -0.294325   0.196106   \n",
      "449  17.465698 -17.061780 -6.177656  10.639899  8.653360  8.656899  -0.372288   \n",
      "450  -3.298163   2.738681 -2.361979  -1.252887  1.851596 -1.172423  -0.282926   \n",
      "451  -1.440377  -0.021431 -3.488494   0.336195 -0.012930  0.589044  -0.274625   \n",
      "\n",
      "          7         8          9    ...       140       141       142  \\\n",
      "0    0.158928  4.143497  -3.566495  ...  0.208027  0.191356  0.273529   \n",
      "1    0.082368  0.142259   3.250354  ...  0.025323  0.033043  0.258425   \n",
      "2    1.695624 -0.050282  -5.874283  ... -0.495214  0.050587  0.297724   \n",
      "3   -0.062765  3.693187   0.058430  ... -0.140697  0.281996 -0.724645   \n",
      "4   -2.860970  2.916168  -2.933144  ...  0.243194  1.358163  0.477924   \n",
      "..        ...       ...        ...  ...       ...       ...       ...   \n",
      "447 -1.582335  0.259690  -0.999494  ...  0.464822  0.110294  0.193780   \n",
      "448  0.959026  0.684528   0.767523  ...  0.017413  0.099362 -0.089705   \n",
      "449 -1.502529 -0.447118  13.251273  ... -0.048121  0.262633  0.113362   \n",
      "450  0.016848  0.249499   3.116245  ... -0.030388  0.029484 -0.051869   \n",
      "451  2.288087 -0.845159   0.983873  ...  0.459868  0.475162  0.465028   \n",
      "\n",
      "          143       144       145       146       147       148       149  \n",
      "0   -1.025791  0.152691  0.115942 -0.746815  0.419114 -0.068026 -0.143716  \n",
      "1    0.004542 -0.268558  0.136173 -0.372314 -0.200990 -0.171856 -0.778808  \n",
      "2    0.051732 -0.298485  0.093588 -0.147999 -0.431359 -0.037311  0.360261  \n",
      "3    0.463366  0.114742 -0.757370  0.070500 -0.241720 -0.499056 -0.060458  \n",
      "4   -0.526710 -0.299187  0.451380  0.177057  0.371981 -0.397513 -0.287994  \n",
      "..        ...       ...       ...       ...       ...       ...       ...  \n",
      "447 -0.286888  0.290855 -0.266288 -0.074683 -0.611781  0.326369 -0.115201  \n",
      "448 -0.508328 -0.503994 -0.149618 -0.309099 -0.360172 -0.066797  0.233993  \n",
      "449 -0.060507  0.117636  0.155030  0.037612  0.039961 -0.216044 -0.125669  \n",
      "450  0.518139 -0.073335 -0.049764 -0.384371  0.351169 -0.266467  0.798471  \n",
      "451  0.158638 -0.171186 -0.015867 -0.157212 -0.106293 -0.078582  0.124040  \n",
      "\n",
      "[452 rows x 150 columns]\n"
     ]
    }
   ],
   "source": [
    "imp = SimpleImputer(missing_values=np.nan, strategy='mean')\n",
    "ft_data = imp.fit_transform(ft_data)\n",
    "\n",
    "pca = PCA(n_components=150)\n",
    "principal_components = pca.fit_transform(ft_data)\n",
    "\n",
    "lst = range(150)\n",
    "\n",
    "principal_ft_data = pd.DataFrame(data = principal_components, columns = lst)\n",
    "principal_ft_data"
   ]
  },
  {
   "cell_type": "markdown",
   "metadata": {},
   "source": []
  },
  {
   "cell_type": "code",
   "execution_count": 22,
   "metadata": {},
   "outputs": [],
   "source": [
    "target_data_df = pd.DataFrame(target_data)\n",
    "final_df = pd.concat([principal_ft_data, target_data_df], axis = 1)"
   ]
  },
  {
   "cell_type": "markdown",
   "metadata": {},
   "source": []
  },
  {
   "cell_type": "code",
   "execution_count": 23,
   "metadata": {},
   "outputs": [
    {
     "ename": "NameError",
     "evalue": "name 'final_data' is not defined",
     "output_type": "error",
     "traceback": [
      "\u001b[0;31m---------------------------------------------------------------------------\u001b[0m",
      "\u001b[0;31mNameError\u001b[0m                                 Traceback (most recent call last)",
      "\u001b[0;32m<ipython-input-23-a26db1b06f6c>\u001b[0m in \u001b[0;36m<module>\u001b[0;34m\u001b[0m\n\u001b[1;32m     11\u001b[0m \u001b[0mcolors\u001b[0m \u001b[0;34m=\u001b[0m \u001b[0mcm\u001b[0m\u001b[0;34m.\u001b[0m\u001b[0mrainbow\u001b[0m\u001b[0;34m(\u001b[0m\u001b[0mnp\u001b[0m\u001b[0;34m.\u001b[0m\u001b[0mlinspace\u001b[0m\u001b[0;34m(\u001b[0m\u001b[0;36m0\u001b[0m\u001b[0;34m,\u001b[0m \u001b[0;36m1\u001b[0m\u001b[0;34m,\u001b[0m \u001b[0mlen\u001b[0m\u001b[0;34m(\u001b[0m\u001b[0mtargets\u001b[0m\u001b[0;34m)\u001b[0m\u001b[0;34m)\u001b[0m\u001b[0;34m)\u001b[0m\u001b[0;34m\u001b[0m\u001b[0;34m\u001b[0m\u001b[0m\n\u001b[1;32m     12\u001b[0m \u001b[0;32mfor\u001b[0m \u001b[0mtarget\u001b[0m\u001b[0;34m,\u001b[0m \u001b[0mcolor\u001b[0m \u001b[0;32min\u001b[0m \u001b[0mzip\u001b[0m\u001b[0;34m(\u001b[0m\u001b[0mtargets\u001b[0m\u001b[0;34m,\u001b[0m\u001b[0mcolors\u001b[0m\u001b[0;34m)\u001b[0m\u001b[0;34m:\u001b[0m\u001b[0;34m\u001b[0m\u001b[0;34m\u001b[0m\u001b[0m\n\u001b[0;32m---> 13\u001b[0;31m     \u001b[0mindicesToKeep\u001b[0m \u001b[0;34m=\u001b[0m \u001b[0mfinal_data\u001b[0m\u001b[0;34m.\u001b[0m\u001b[0mcolumns\u001b[0m\u001b[0;34m[\u001b[0m\u001b[0;34m-\u001b[0m\u001b[0;36m1\u001b[0m\u001b[0;34m]\u001b[0m \u001b[0;34m==\u001b[0m \u001b[0mtarget\u001b[0m\u001b[0;34m\u001b[0m\u001b[0;34m\u001b[0m\u001b[0m\n\u001b[0m\u001b[1;32m     14\u001b[0m     \u001b[0max\u001b[0m\u001b[0;34m.\u001b[0m\u001b[0mscatter\u001b[0m\u001b[0;34m(\u001b[0m\u001b[0mfinal_data\u001b[0m\u001b[0;34m.\u001b[0m\u001b[0mloc\u001b[0m\u001b[0;34m[\u001b[0m\u001b[0mindicesToKeep\u001b[0m\u001b[0;34m,\u001b[0m \u001b[0;34m'principal component 1'\u001b[0m\u001b[0;34m]\u001b[0m\u001b[0;34m,\u001b[0m \u001b[0mfinal_data\u001b[0m\u001b[0;34m.\u001b[0m\u001b[0mloc\u001b[0m\u001b[0;34m[\u001b[0m\u001b[0mindicesToKeep\u001b[0m\u001b[0;34m,\u001b[0m \u001b[0;34m'principal component 2'\u001b[0m\u001b[0;34m]\u001b[0m\u001b[0;34m,\u001b[0m \u001b[0mc\u001b[0m \u001b[0;34m=\u001b[0m \u001b[0mcolor\u001b[0m\u001b[0;34m,\u001b[0m \u001b[0ms\u001b[0m \u001b[0;34m=\u001b[0m \u001b[0;36m50\u001b[0m\u001b[0;34m)\u001b[0m\u001b[0;34m\u001b[0m\u001b[0;34m\u001b[0m\u001b[0m\n\u001b[1;32m     15\u001b[0m \u001b[0max\u001b[0m\u001b[0;34m.\u001b[0m\u001b[0mlegend\u001b[0m\u001b[0;34m(\u001b[0m\u001b[0mtargets\u001b[0m\u001b[0;34m)\u001b[0m\u001b[0;34m\u001b[0m\u001b[0;34m\u001b[0m\u001b[0m\n",
      "\u001b[0;31mNameError\u001b[0m: name 'final_data' is not defined"
     ]
    },
    {
     "data": {
      "image/png": "[encoded data removed]",
      "text/plain": [
       "<Figure size 576x576 with 1 Axes>"
      ]
     },
     "metadata": {
      "needs_background": "light"
     },
     "output_type": "display_data"
    }
   ],
   "source": [
    "import matplotlib.pyplot as plt\n",
    "import matplotlib.cm as cm\n",
    "\n",
    "fig = plt.figure(figsize = (8,8))\n",
    "ax = fig.add_subplot(1,1,1) \n",
    "ax.set_xlabel('Principal Component 1', fontsize = 15)\n",
    "ax.set_ylabel('Principal Component 2', fontsize = 15)\n",
    "ax.set_title('2 component PCA', fontsize = 20)\n",
    "\n",
    "targets = range(16)\n",
    "colors = cm.rainbow(np.linspace(0, 1, len(targets)))\n",
    "for target, color in zip(targets,colors):\n",
    "    indicesToKeep = final_data.columns[-1] == target\n",
    "    ax.scatter(final_data.loc[indicesToKeep, 'principal component 1'], final_data.loc[indicesToKeep, 'principal component 2'], c = color, s = 50)\n",
    "ax.legend(targets)\n",
    "ax.grid()"
   ]
  }
 ],
 "metadata": {
  "interpreter": {
   "hash": "46b936ff1622c326d442b837a2b71fa5dbcf20e52e3a75b5ec5a0d8bfc7f438d"
  },
  "kernelspec": {
   "display_name": "Python 3.8.8 64-bit ('base': conda)",
   "name": "python3"
  },
  "language_info": {
   "codemirror_mode": {
    "name": "ipython",
    "version": 3
   },
   "file_extension": ".py",
   "mimetype": "text/x-python",
   "name": "python",
   "nbconvert_exporter": "python",
   "pygments_lexer": "ipython3",
   "version": "3.8.8"
  },
  "orig_nbformat": 4
 },
 "nbformat": 4,
 "nbformat_minor": 2
}
