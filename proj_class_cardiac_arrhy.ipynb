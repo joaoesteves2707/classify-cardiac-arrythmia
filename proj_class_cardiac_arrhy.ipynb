{
 "cells": [
  {
   "cell_type": "code",
   "execution_count": 105,
   "metadata": {},
   "outputs": [],
   "source": [
    "#TITLE: A Machine Learning Approach for the Classification of Cardiac Arrhythmia\n",
    "#STUDENT NAME: João Pedro da Silva Esteves\n",
    "#JMBAG: "
   ]
  },
  {
   "cell_type": "markdown",
   "metadata": {},
   "source": [
    "1. Imports needed in order to execute the python code"
   ]
  },
  {
   "cell_type": "code",
   "execution_count": 106,
   "metadata": {},
   "outputs": [],
   "source": [
    "import numpy as np\n",
    "import pandas as pd\n",
    "from warnings import filterwarnings\n",
    "filterwarnings('ignore')\n",
    "\n",
    "from sklearn.preprocessing import StandardScaler\n",
    "from sklearn.decomposition import PCA\n",
    "from sklearn.impute import SimpleImputer\n",
    "from sklearn.model_selection import train_test_split\n",
    "\n",
    "from sklearn.model_selection import GridSearchCV\n",
    "from sklearn.metrics import confusion_matrix, classification_report\n",
    "from sklearn import metrics\n",
    "import matplotlib.pyplot as plt\n",
    "\n",
    "# import classification algorithms \n",
    "from sklearn.svm import SVC\n",
    "from sklearn.linear_model import LogisticRegression\n",
    "from sklearn.neighbors import KNeighborsClassifier\n",
    "from sklearn.ensemble import RandomForestClassifier\n",
    "\n",
    "url = 'https://archive.ics.uci.edu/ml/machine-learning-databases/arrhythmia/arrhythmia.data'"
   ]
  },
  {
   "cell_type": "markdown",
   "metadata": {},
   "source": [
    "2. First, get data frame from data's URL, with features named from 0 to 279, using pandas' read_csv()\n",
    "Feature 279 is actually the 'targets'"
   ]
  },
  {
   "cell_type": "code",
   "execution_count": 107,
   "metadata": {},
   "outputs": [],
   "source": [
    "lst = range(0,280)\n",
    "raw_data = pd.read_csv(url, names = lst, na_values='?')"
   ]
  },
  {
   "cell_type": "markdown",
   "metadata": {},
   "source": [
    "3. Separate the features from the targets"
   ]
  },
  {
   "cell_type": "code",
   "execution_count": 108,
   "metadata": {},
   "outputs": [],
   "source": [
    "ft_data = raw_data.loc[:, lst[:-1]].values\n",
    "target_data = raw_data.loc[:, lst[-1]].values"
   ]
  },
  {
   "cell_type": "markdown",
   "metadata": {},
   "source": [
    "4. Standardize the features' numerical data"
   ]
  },
  {
   "cell_type": "code",
   "execution_count": 109,
   "metadata": {},
   "outputs": [],
   "source": [
    "ft_data = StandardScaler().fit_transform(ft_data)\n"
   ]
  },
  {
   "cell_type": "markdown",
   "metadata": {},
   "source": [
    "5. Replace NaN values using imputation with mean values"
   ]
  },
  {
   "cell_type": "code",
   "execution_count": 110,
   "metadata": {},
   "outputs": [],
   "source": [
    "imp = SimpleImputer(missing_values=np.nan, strategy='mean')\n",
    "ft_data = imp.fit_transform(ft_data)"
   ]
  },
  {
   "cell_type": "markdown",
   "metadata": {},
   "source": [
    "6. Determine the number of features needed to get a variance rate of 99%"
   ]
  },
  {
   "cell_type": "code",
   "execution_count": 111,
   "metadata": {},
   "outputs": [
    {
     "data": {
      "text/plain": [
       "154"
      ]
     },
     "execution_count": 111,
     "metadata": {},
     "output_type": "execute_result"
    }
   ],
   "source": [
    "pca = PCA(0.99)\n",
    "pca.fit_transform(ft_data)\n",
    "len(pca.explained_variance_ratio_)"
   ]
  },
  {
   "cell_type": "markdown",
   "metadata": {},
   "source": [
    "7. According to the paper, reducing the number of features to 150 features is enough (150 is close to 154 features previously obtained)\n"
   ]
  },
  {
   "cell_type": "code",
   "execution_count": 112,
   "metadata": {},
   "outputs": [],
   "source": [
    "pca = PCA(n_components = 150)\n",
    "principal_components = pca.fit_transform(ft_data)\n",
    "\n",
    "lst = range(150)\n",
    "principal_ft_data = pd.DataFrame(data = principal_components, columns = lst)\n",
    "target_data_df = pd.DataFrame(target_data)"
   ]
  },
  {
   "cell_type": "markdown",
   "metadata": {},
   "source": [
    "8. Get a training set and a test"
   ]
  },
  {
   "cell_type": "code",
   "execution_count": 113,
   "metadata": {},
   "outputs": [],
   "source": [
    "test_data_size = 125\n",
    "total_data_size = 452\n",
    "training_ft_set, test_ft_set, training_target_set, test_target_set = train_test_split(principal_ft_data, np.ravel(target_data_df), test_size = test_data_size/total_data_size, random_state = 25)"
   ]
  },
  {
   "cell_type": "markdown",
   "metadata": {},
   "source": [
    "9. Now, 4 algorithms for data classification will be used and compared later on.<br>9.1. SVM (Support Vector Machines) Algorithm. CV parameter refers to KFolds with k = 5."
   ]
  },
  {
   "cell_type": "code",
   "execution_count": 114,
   "metadata": {},
   "outputs": [
    {
     "name": "stdout",
     "output_type": "stream",
     "text": [
      "Best hyperparameters are: {'C': 100, 'gamma': 0.0001, 'kernel': 'rbf'}\n",
      "              precision    recall  f1-score   support\n",
      "\n",
      "           1       0.71      0.94      0.81        72\n",
      "           2       0.43      0.30      0.35        10\n",
      "           3       1.00      1.00      1.00         3\n",
      "           4       0.50      0.50      0.50         2\n",
      "           5       0.00      0.00      0.00         2\n",
      "           6       1.00      0.10      0.18        10\n",
      "           7       0.00      0.00      0.00         1\n",
      "           8       0.00      0.00      0.00         1\n",
      "           9       1.00      0.75      0.86         4\n",
      "          10       1.00      0.50      0.67        18\n",
      "          14       0.00      0.00      0.00         0\n",
      "          15       0.00      0.00      0.00         1\n",
      "          16       0.00      0.00      0.00         1\n",
      "\n",
      "    accuracy                           0.70       125\n",
      "   macro avg       0.43      0.31      0.34       125\n",
      "weighted avg       0.73      0.70      0.66       125\n",
      "\n",
      "Accuracy SVM with tuning: 0.704\n"
     ]
    }
   ],
   "source": [
    "# #Start by training without tuning hyperparameters\n",
    "# model = SVC()\n",
    "# model.fit(training_ft_set, training_target_set)\n",
    "# #print prediction results\n",
    "# predictions = model.predict(test_ft_set)\n",
    "# print(classification_report(test_target_set, predictions))\n",
    "# print(\"Accuracy SVM no tuning:\",metrics.accuracy_score(test_target_set, predictions))\n",
    "\n",
    "#Now we should use the model with hyperparameters turning\n",
    "\n",
    "param_grid = {'C': [0.1, 1, 10, 100, 1000], 'gamma': [1, 0.1, 0.01, 0.001, 0.0001], 'kernel': ['rbf']}\n",
    "grid = GridSearchCV(SVC(), param_grid, refit=True, cv=5, verbose=0)\n",
    "grid.fit(training_ft_set, training_target_set)\n",
    "\n",
    "#print gridsearchcv and prediction results\n",
    "print(f\"Best hyperparameters are: {grid.best_params_}\")\n",
    "grid_predictions = grid.predict(test_ft_set)\n",
    "print(classification_report(test_target_set, grid_predictions))\n",
    "SVM_accuracy_result = metrics.accuracy_score(test_target_set, grid_predictions)\n",
    "print(\"Accuracy SVM with tuning:\", SVM_accuracy_result)\n"
   ]
  },
  {
   "cell_type": "markdown",
   "metadata": {},
   "source": [
    "9.2. Logistic Regression Algorithm. CV parameter refers to KFolds with k = 5."
   ]
  },
  {
   "cell_type": "code",
   "execution_count": 115,
   "metadata": {},
   "outputs": [
    {
     "name": "stdout",
     "output_type": "stream",
     "text": [
      "Best hyperparameters are: {'C': 0.1, 'penalty': 'l2'}\n",
      "              precision    recall  f1-score   support\n",
      "\n",
      "           1       0.74      0.97      0.84        72\n",
      "           2       0.50      0.40      0.44        10\n",
      "           3       1.00      1.00      1.00         3\n",
      "           4       0.00      0.00      0.00         2\n",
      "           5       0.00      0.00      0.00         2\n",
      "           6       0.67      0.20      0.31        10\n",
      "           7       0.00      0.00      0.00         1\n",
      "           8       0.00      0.00      0.00         1\n",
      "           9       1.00      0.50      0.67         4\n",
      "          10       0.91      0.56      0.69        18\n",
      "          15       0.00      0.00      0.00         1\n",
      "          16       0.00      0.00      0.00         1\n",
      "\n",
      "    accuracy                           0.73       125\n",
      "   macro avg       0.40      0.30      0.33       125\n",
      "weighted avg       0.70      0.73      0.69       125\n",
      "\n",
      "Accuracy Log Reg with tuning: 0.728\n"
     ]
    }
   ],
   "source": [
    "#Start by training without tuning hyperparameters\n",
    "# model = LogisticRegression()\n",
    "# model.fit(training_ft_set, training_target_set)\n",
    "# #print prediction results\n",
    "# predictions = model.predict(test_ft_set)\n",
    "# print(classification_report(test_target_set, predictions))\n",
    "# print('Accuracy Log Reg no tuning: {:.5f}'.format(model.score(test_ft_set, test_target_set)))\n",
    "\n",
    "#Now we should use the model with hyperparameters tuning\n",
    "\n",
    "param_grid={\"C\":np.logspace(-3,3,7), \"penalty\":[\"l1\",\"l2\"]}\n",
    "grid = GridSearchCV(LogisticRegression(), param_grid, refit=True, cv=5, verbose=0)\n",
    "grid.fit(training_ft_set, training_target_set)\n",
    "\n",
    "#print gridsearchcv and prediction results\n",
    "print(f\"Best hyperparameters are: {grid.best_params_}\")\n",
    "grid_predictions = grid.predict(test_ft_set)\n",
    "print(classification_report(test_target_set, grid_predictions))\n",
    "LogReg_accuracy_result = metrics.accuracy_score(test_target_set, grid_predictions)\n",
    "print(\"Accuracy Log Reg with tuning:\", LogReg_accuracy_result)\n"
   ]
  },
  {
   "cell_type": "markdown",
   "metadata": {},
   "source": [
    "9.3. KNN (K-Nearest Neighbors) Algorithm. CV parameter refers to KFolds with k = 5."
   ]
  },
  {
   "cell_type": "code",
   "execution_count": 116,
   "metadata": {},
   "outputs": [
    {
     "name": "stdout",
     "output_type": "stream",
     "text": [
      "Best hyperparameters are: {'n_neighbors': 5, 'weights': 'distance'}\n",
      "              precision    recall  f1-score   support\n",
      "\n",
      "           1       0.63      1.00      0.77        72\n",
      "           2       0.67      0.20      0.31        10\n",
      "           3       1.00      0.67      0.80         3\n",
      "           4       0.00      0.00      0.00         2\n",
      "           5       0.00      0.00      0.00         2\n",
      "           6       0.00      0.00      0.00        10\n",
      "           7       0.00      0.00      0.00         1\n",
      "           8       0.00      0.00      0.00         1\n",
      "           9       1.00      0.25      0.40         4\n",
      "          10       1.00      0.17      0.29        18\n",
      "          15       0.00      0.00      0.00         1\n",
      "          16       0.00      0.00      0.00         1\n",
      "\n",
      "    accuracy                           0.64       125\n",
      "   macro avg       0.36      0.19      0.21       125\n",
      "weighted avg       0.62      0.64      0.54       125\n",
      "\n",
      "Accuracy KNN with tuning: 0.64\n"
     ]
    }
   ],
   "source": [
    "# #Start by training without tuning hyperparameters\n",
    "# classifier = KNeighborsClassifier(n_neighbors=5)\n",
    "# classifier.fit(training_ft_set, training_target_set)\n",
    "# #print prediction results\n",
    "# predictions = classifier.predict(test_ft_set)\n",
    "# print(classification_report(test_target_set, predictions))\n",
    "# print(\"Accuracy KNN no tuning:\", metrics.accuracy_score(test_target_set, predictions))\n",
    "\n",
    "#Now we should use the model with hyperparameters tuning\n",
    "\n",
    "param_grid={\"n_neighbors\": range(1, 50), \"weights\": [\"uniform\", \"distance\"]}\n",
    "grid = GridSearchCV(KNeighborsClassifier(), param_grid, refit=True, cv=5, verbose=0)\n",
    "grid.fit(training_ft_set, training_target_set)\n",
    "\n",
    "#print gridsearchcv and prediction results\n",
    "print(f\"Best hyperparameters are: {grid.best_params_}\")\n",
    "grid_predictions = grid.predict(test_ft_set)\n",
    "print(classification_report(test_target_set, grid_predictions))\n",
    "KNN_accuracy_result = metrics.accuracy_score(test_target_set, grid_predictions)\n",
    "print(\"Accuracy KNN with tuning:\", KNN_accuracy_result)"
   ]
  },
  {
   "cell_type": "markdown",
   "metadata": {},
   "source": [
    "9.4. RF (Random Forest) Algorithm. CV parameter refers to KFolds with k = 5."
   ]
  },
  {
   "cell_type": "code",
   "execution_count": 117,
   "metadata": {},
   "outputs": [
    {
     "name": "stdout",
     "output_type": "stream",
     "text": [
      "Best hyperparameters are: {'max_depth': 10, 'min_samples_leaf': 3, 'n_estimators': 300}\n",
      "              precision    recall  f1-score   support\n",
      "\n",
      "           1       0.61      1.00      0.75        72\n",
      "           2       0.00      0.00      0.00        10\n",
      "           3       0.00      0.00      0.00         3\n",
      "           4       0.00      0.00      0.00         2\n",
      "           5       0.00      0.00      0.00         2\n",
      "           6       0.00      0.00      0.00        10\n",
      "           7       0.00      0.00      0.00         1\n",
      "           8       0.00      0.00      0.00         1\n",
      "           9       0.00      0.00      0.00         4\n",
      "          10       0.60      0.17      0.26        18\n",
      "          15       0.00      0.00      0.00         1\n",
      "          16       0.00      0.00      0.00         1\n",
      "\n",
      "    accuracy                           0.60       125\n",
      "   macro avg       0.10      0.10      0.08       125\n",
      "weighted avg       0.43      0.60      0.47       125\n",
      "\n",
      "Accuracy RF with tuning: 0.6\n"
     ]
    }
   ],
   "source": [
    "#Start by training without tuning hyperparameters\n",
    "# classifier = RandomForestClassifier(random_state=42, n_jobs=-1, max_depth=5, n_estimators=100, oob_score=True)\n",
    "# classifier.fit(training_ft_set, training_target_set)\n",
    "# #print prediction results\n",
    "# predictions = classifier.predict(test_ft_set)\n",
    "# print(classification_report(test_target_set, predictions))\n",
    "# print(\"Accuracy RF no tuning:\", metrics.accuracy_score(test_target_set, predictions))\n",
    "\n",
    "#Now we should use the model with hyperparameters tuning\n",
    "\n",
    "classifier = RandomForestClassifier(random_state=42)\n",
    "param_grid = {'max_depth': [5,10,20], 'min_samples_leaf': [3,4,10,100],'n_estimators': [50,100,200,300]}\n",
    "grid = GridSearchCV(classifier, param_grid, refit=True, cv=5, verbose=0)\n",
    "grid.fit(training_ft_set, training_target_set)\n",
    "\n",
    "#print gridsearchcv and prediction results\n",
    "print(f\"Best hyperparameters are: {grid.best_params_}\")\n",
    "grid_predictions = grid.predict(test_ft_set)\n",
    "print(classification_report(test_target_set, grid_predictions))\n",
    "RF_accuracy_result = metrics.accuracy_score(test_target_set, grid_predictions)\n",
    "print(\"Accuracy RF with tuning:\", RF_accuracy_result)"
   ]
  },
  {
   "cell_type": "markdown",
   "metadata": {},
   "source": [
    "10. Plot the classifiers' accuracies in a bar graph"
   ]
  },
  {
   "cell_type": "code",
   "execution_count": 118,
   "metadata": {},
   "outputs": [
    {
     "data": {
      "image/png": "[encoded data removed]",
      "text/plain": [
       "<Figure size 432x288 with 1 Axes>"
      ]
     },
     "metadata": {
      "needs_background": "light"
     },
     "output_type": "display_data"
    }
   ],
   "source": [
    "fig, ax = plt.subplots()\n",
    "index = [0,1,2,3]\n",
    "x = ['SVM','LogReg','KNN','RF']\n",
    "y = [SVM_accuracy_result*test_data_size,LogReg_accuracy_result*test_data_size,KNN_accuracy_result*test_data_size,RF_accuracy_result*test_data_size]\n",
    "ax.bar(index,y)\n",
    "ax.set_xticks(index)\n",
    "ax.set_xticklabels(x)\n",
    "ax.bar_label(ax.containers[0])\n",
    "plt.title('Classifiers Results')\n",
    "plt.xlabel('Classifiers')\n",
    "plt.ylabel('Correct Predictions')\n",
    "plt.ylim(0, len(test_target_set))\n",
    "plt.show()"
   ]
  }
 ],
 "metadata": {
  "interpreter": {
   "hash": "46b936ff1622c326d442b837a2b71fa5dbcf20e52e3a75b5ec5a0d8bfc7f438d"
  },
  "kernelspec": {
   "display_name": "Python 3.8.8 64-bit ('base': conda)",
   "name": "python3"
  },
  "language_info": {
   "codemirror_mode": {
    "name": "ipython",
    "version": 3
   },
   "file_extension": ".py",
   "mimetype": "text/x-python",
   "name": "python",
   "nbconvert_exporter": "python",
   "pygments_lexer": "ipython3",
   "version": "3.8.2"
  },
  "orig_nbformat": 4
 },
 "nbformat": 4,
 "nbformat_minor": 2
}
